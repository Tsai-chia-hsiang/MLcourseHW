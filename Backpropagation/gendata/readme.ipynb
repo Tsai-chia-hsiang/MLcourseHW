{
 "cells": [
  {
   "cell_type": "code",
   "execution_count": 1,
   "metadata": {},
   "outputs": [],
   "source": [
    "import numpy as np\n",
    "import os"
   ]
  },
  {
   "cell_type": "code",
   "execution_count": 5,
   "metadata": {},
   "outputs": [
    {
     "name": "stdout",
     "output_type": "stream",
     "text": [
      "(10000, 1)\n",
      "train size (6400, 32)\n",
      "validation size (1600, 32)\n",
      "test size (2000, 32)\n"
     ]
    }
   ],
   "source": [
    "dnum = 10000\n",
    "trainsize = np.floor(dnum*0.8).astype(np.int32)\n",
    "def gth(x):\n",
    "    return np.mean(np.sin(x), axis=1, keepdims=True)+1.352\n",
    "\n",
    "x_all = np.random.randint(low=0, high=9, size=(dnum, 32))\n",
    "y_all = gth(x_all)\n",
    "print(y_all.shape)\n",
    "shuffle = np.random.permutation(x_all.shape[0])\n",
    "trainid=shuffle[:trainsize]\n",
    "testid=shuffle[trainsize:]\n",
    "\n",
    "validationsize = np.floor(trainsize*0.2).astype(np.int32)\n",
    "validationid=trainid[:validationsize]\n",
    "trainid = trainid[validationsize:]\n",
    "\n",
    "x_train = x_all[trainid, :]\n",
    "y_train = y_all[trainid, :]\n",
    "x_val = x_all[validationid, :]\n",
    "y_val = y_all[validationid, :]\n",
    "x_test = x_all[testid, :]\n",
    "y_test = y_all[testid, :]\n",
    "\n",
    "print(f\"train size {x_train.shape}\")\n",
    "print(f\"validation size {x_val.shape}\")\n",
    "print(f\"test size {x_test.shape}\")"
   ]
  },
  {
   "cell_type": "code",
   "execution_count": 11,
   "metadata": {},
   "outputs": [],
   "source": [
    "traindir= os.path.join(\"train\")\n",
    "if not os.path.exists(traindir):\n",
    "    os.mkdir(traindir)\n",
    "\n",
    "valdir= os.path.join(\"val\")\n",
    "if not os.path.exists(valdir):\n",
    "    os.mkdir(valdir)\n",
    "\n",
    "testdir= os.path.join(\"test\")\n",
    "if not os.path.exists(testdir):\n",
    "    os.mkdir(testdir)"
   ]
  },
  {
   "cell_type": "code",
   "execution_count": 13,
   "metadata": {},
   "outputs": [],
   "source": [
    "np.save(os.path.join(traindir, \"x\"), x_train)\n",
    "np.save(os.path.join(traindir, \"y\"), y_train)\n",
    "\n",
    "np.save(os.path.join(valdir, \"x\"), x_val)\n",
    "np.save(os.path.join(valdir, \"y\"), y_val)\n",
    "\n",
    "np.save(os.path.join(testdir, \"x\"), x_test)\n",
    "np.save(os.path.join(testdir, \"y\"), y_test)"
   ]
  },
  {
   "cell_type": "code",
   "execution_count": 14,
   "metadata": {},
   "outputs": [
    {
     "data": {
      "text/plain": [
       "array([[6, 1, 0, ..., 3, 8, 6],\n",
       "       [4, 7, 5, ..., 5, 4, 8],\n",
       "       [8, 5, 8, ..., 5, 5, 4],\n",
       "       ...,\n",
       "       [2, 1, 2, ..., 3, 1, 1],\n",
       "       [0, 5, 4, ..., 4, 4, 2],\n",
       "       [8, 0, 0, ..., 4, 3, 8]])"
      ]
     },
     "execution_count": 14,
     "metadata": {},
     "output_type": "execute_result"
    }
   ],
   "source": [
    "x_train"
   ]
  },
  {
   "cell_type": "code",
   "execution_count": 15,
   "metadata": {},
   "outputs": [
    {
     "data": {
      "text/plain": [
       "array([[0, 6, 6, ..., 1, 6, 4],\n",
       "       [7, 2, 4, ..., 4, 8, 1],\n",
       "       [2, 1, 8, ..., 0, 3, 6],\n",
       "       ...,\n",
       "       [2, 7, 5, ..., 6, 0, 4],\n",
       "       [5, 4, 0, ..., 7, 7, 1],\n",
       "       [1, 2, 4, ..., 8, 3, 8]])"
      ]
     },
     "execution_count": 15,
     "metadata": {},
     "output_type": "execute_result"
    }
   ],
   "source": [
    "x_val"
   ]
  }
 ],
 "metadata": {
  "kernelspec": {
   "display_name": "py",
   "language": "python",
   "name": "python3"
  },
  "language_info": {
   "codemirror_mode": {
    "name": "ipython",
    "version": 3
   },
   "file_extension": ".py",
   "mimetype": "text/x-python",
   "name": "python",
   "nbconvert_exporter": "python",
   "pygments_lexer": "ipython3",
   "version": "3.11.3"
  },
  "orig_nbformat": 4
 },
 "nbformat": 4,
 "nbformat_minor": 2
}
