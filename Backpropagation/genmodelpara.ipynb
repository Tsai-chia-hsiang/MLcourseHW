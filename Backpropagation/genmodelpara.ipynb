{
 "cells": [
  {
   "cell_type": "code",
   "execution_count": 1,
   "metadata": {},
   "outputs": [],
   "source": [
    "import numpy as np\n",
    "import os\n",
    "from NN.Model import _NNmodel\n",
    "from NN.Layers.Activation import tanh_activation\n",
    "from NN.Layers.Linear import Linear\n",
    "from NN.Layers.Transform import BatchNormalization\n"
   ]
  },
  {
   "cell_type": "code",
   "execution_count": 2,
   "metadata": {},
   "outputs": [
    {
     "name": "stdout",
     "output_type": "stream",
     "text": [
      "(1600, 32)\n",
      "(1600, 1)\n"
     ]
    }
   ],
   "source": [
    "x = np.load(os.path.join(\"gendata\", \"val\", \"x.npy\"))\n",
    "y = np.load(os.path.join(\"gendata\", \"val\", \"y.npy\"))\n",
    "print(x.shape)\n",
    "print(y.shape)"
   ]
  },
  {
   "cell_type": "code",
   "execution_count": 3,
   "metadata": {},
   "outputs": [],
   "source": [
    "class testNN(_NNmodel):\n",
    "    \n",
    "    def __init__(self, in_dim, out_dim, transition:list) -> None:\n",
    "        super().__init__()\n",
    "        trans = [in_dim] + transition + [out_dim]\n",
    "        for i in range(len(trans)-1):\n",
    "            self.Sequence.append(Linear(in_dim=trans[i], out_dim=trans[i+1]))\n",
    "            if i < len(trans)-2 :\n",
    "                self.Sequence.append(BatchNormalization())  \n",
    "                self.Sequence.append(tanh_activation())\n"
   ]
  },
  {
   "cell_type": "code",
   "execution_count": 4,
   "metadata": {},
   "outputs": [],
   "source": [
    "modelsavedir = os.path.join(\"model\")\n",
    "if not os.path.exists(modelsavedir):\n",
    "    os.mkdir(modelsavedir)"
   ]
  },
  {
   "cell_type": "code",
   "execution_count": 5,
   "metadata": {},
   "outputs": [],
   "source": [
    "a_para = testNN(\n",
    "    in_dim=x.shape[1], out_dim=y.shape[1],\n",
    "    transition=[16, 16, 8, 8, 4, 4]\n",
    ")\n",
    "a_para.savemode(os.path.join(modelsavedir, \"random_para\"))"
   ]
  }
 ],
 "metadata": {
  "kernelspec": {
   "display_name": "py",
   "language": "python",
   "name": "python3"
  },
  "language_info": {
   "codemirror_mode": {
    "name": "ipython",
    "version": 3
   },
   "file_extension": ".py",
   "mimetype": "text/x-python",
   "name": "python",
   "nbconvert_exporter": "python",
   "pygments_lexer": "ipython3",
   "version": "3.11.3"
  },
  "orig_nbformat": 4
 },
 "nbformat": 4,
 "nbformat_minor": 2
}
